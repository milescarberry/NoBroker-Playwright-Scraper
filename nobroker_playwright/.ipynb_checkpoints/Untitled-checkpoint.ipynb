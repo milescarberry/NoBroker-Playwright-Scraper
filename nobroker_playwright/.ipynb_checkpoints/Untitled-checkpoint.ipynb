{
 "cells": [
  {
   "cell_type": "code",
   "execution_count": 2,
   "id": "5e6518c7-2e2c-4b97-9689-fe4e6e297115",
   "metadata": {},
   "outputs": [],
   "source": [
    "import pickle\n",
    "\n",
    "from os import listdir"
   ]
  },
  {
   "cell_type": "code",
   "execution_count": 3,
   "id": "9d3d314a-378d-4d26-a291-ae9656017893",
   "metadata": {},
   "outputs": [],
   "source": [
    "files_list = listdir(\"./data\")"
   ]
  },
  {
   "cell_type": "code",
   "execution_count": 4,
   "id": "c91d02ec-4703-4edb-864a-b1ac320a0a3c",
   "metadata": {},
   "outputs": [],
   "source": [
    "files_list = [file for file in files_list if \"metro\" in file]"
   ]
  },
  {
   "cell_type": "code",
   "execution_count": 5,
   "id": "3105a41e-103b-4bb4-808a-7c52d4e9b6e6",
   "metadata": {},
   "outputs": [],
   "source": [
    "all_stations = []\n",
    "\n",
    "for file in files_list:\n",
    "\n",
    "    with open(f\"./data/{file}\", 'rb') as pickle_file:\n",
    "\n",
    "\n",
    "        stations = pickle.load(pickle_file)\n",
    "\n",
    "\n",
    "    all_stations.extend(stations)\n",
    "\n"
   ]
  },
  {
   "cell_type": "code",
   "execution_count": 6,
   "id": "4253eb57-56a4-4825-9f6d-f357e3a2b3b6",
   "metadata": {},
   "outputs": [
    {
     "data": {
      "text/plain": [
       "45"
      ]
     },
     "execution_count": 6,
     "metadata": {},
     "output_type": "execute_result"
    }
   ],
   "source": [
    "len(all_stations)"
   ]
  },
  {
   "cell_type": "code",
   "execution_count": 11,
   "id": "5331e2cc-84d3-4bcb-b1b6-a56143797e20",
   "metadata": {},
   "outputs": [],
   "source": [
    "with open(\"./data/all_stations.txt\", 'w') as stations_file:\n",
    "\n",
    "    stations_file.writelines([station['name'] + \"\\n\" for station in all_stations])"
   ]
  },
  {
   "cell_type": "code",
   "execution_count": 17,
   "id": "a64eefe7-6fe8-433d-b95b-98d5b9d1d7eb",
   "metadata": {},
   "outputs": [],
   "source": []
  },
  {
   "cell_type": "code",
   "execution_count": 18,
   "id": "25318408-55a2-4490-b6af-f36a886ec8e4",
   "metadata": {},
   "outputs": [
    {
     "name": "stdout",
     "output_type": "stream",
     "text": [
      "['']\n"
     ]
    }
   ],
   "source": []
  },
  {
   "cell_type": "code",
   "execution_count": null,
   "id": "d800695d-e19f-404b-b854-41e4f2e1c233",
   "metadata": {},
   "outputs": [],
   "source": []
  }
 ],
 "metadata": {
  "kernelspec": {
   "display_name": "Python 3 (ipykernel)",
   "language": "python",
   "name": "python3"
  },
  "language_info": {
   "codemirror_mode": {
    "name": "ipython",
    "version": 3
   },
   "file_extension": ".py",
   "mimetype": "text/x-python",
   "name": "python",
   "nbconvert_exporter": "python",
   "pygments_lexer": "ipython3",
   "version": "3.11.4"
  }
 },
 "nbformat": 4,
 "nbformat_minor": 5
}
